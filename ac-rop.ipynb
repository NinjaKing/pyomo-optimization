{
 "cells": [
  {
   "cell_type": "code",
   "execution_count": 1,
   "metadata": {},
   "outputs": [],
   "source": [
    "from pyomo.environ import *"
   ]
  },
  {
   "cell_type": "code",
   "execution_count": 2,
   "metadata": {},
   "outputs": [],
   "source": [
    "model = AbstractModel()"
   ]
  },
  {
   "cell_type": "code",
   "execution_count": 3,
   "metadata": {},
   "outputs": [],
   "source": [
    "## Define sets ##\n",
    "# N : buses\n",
    "model.N = Set(doc='Buses')\n",
    "# L : lines\n",
    "model.L = Set(within=model.N*model.N, doc='Lines')\n",
    "# R : set of lines to repair\n",
    "model.R = Set(within=model.L, doc='Set of lines to repair')"
   ]
  },
  {
   "cell_type": "code",
   "execution_count": 4,
   "metadata": {},
   "outputs": [],
   "source": [
    "# K : set of [1,..,siz(R)]\n",
    "model.K = RangeSet(len(model.R))"
   ]
  },
  {
   "cell_type": "code",
   "execution_count": 5,
   "metadata": {},
   "outputs": [],
   "source": [
    "## Define parameters ##\n",
    "# p_l : desired active loads\n",
    "model.p_l = Param(model.N)\n",
    "# q_l : desired reactive loads\n",
    "model.q_l = Param(model.N)\n",
    "\n",
    "# g, b : admittance between bus n and bus m\n",
    "model.g = Param(model.L) # conductance\n",
    "model.b = Param(model.L) # susceptance\n",
    "\n",
    "# S : line loading limit on line (n, m)\n",
    "model.S = Param(model.L)\n",
    "\n",
    "# interval of active generation\n",
    "model.p_g_lb = Param(model.N) # lower bound\n",
    "model.p_g_ub = Param(model.N) # upper bound\n",
    "\n",
    "# interval of reactive generation\n",
    "model.q_g_lb = Param(model.N) # lower bound\n",
    "model.q_g_ub = Param(model.N) # upper bound\n",
    "\n",
    "# interval of voltage magnitude\n",
    "model.v_lb = Param(model.N) # lower bound\n",
    "model.v_ub = Param(model.N) # upper bound"
   ]
  },
  {
   "cell_type": "code",
   "execution_count": 6,
   "metadata": {},
   "outputs": [],
   "source": [
    "## Define variables ##\n",
    "# o : line (n,m) is repaired at step k\n",
    "model.o = Var(model.R, model.K, domain=Binary, doc='line (n,m) is repaired at step k')\n",
    "\n",
    "# z : line (n,m) is activated at step k\n",
    "model.z = Var(model.L, model.K, domain=Binary, doc='line (n,m) is activated at step k')\n",
    "\n",
    "# theta : phase angle of bus n (radians)\n",
    "model.theta = Var(model.N, model.K)\n",
    "\n",
    "# v : voltage magnitude at step k\n",
    "def v_bound(model, n, k):\n",
    "   return (model.v_lb[n], model.v_ub[n])\n",
    "model.v = Var(model.N, model.K, bounds=v_bound)\n",
    "\n",
    "# p_g : active generation at step k\n",
    "def p_g_bound(model, n, k):\n",
    "   return (model.p_g_lb[n], model.p_g_ub[n])\n",
    "model.p_g = Var(model.N, model.K, bounds=p_g_bound)\n",
    "\n",
    "# q_g : reactive generation at step k\n",
    "def q_g_bound(model, n, k):\n",
    "   return (model.q_g_lb[n], model.q_g_ub[n])\n",
    "model.q_g = Var(model.N, model.K, bounds=q_g_bound)\n",
    "\n",
    "# l : percentage load served  at step k\n",
    "model.l = Var(model.N, model.K, bounds=(0, 1))\n",
    "\n",
    "# p : active power on line (n, m) at step k\n",
    "def p_bound(model, n, m, k):\n",
    "   return (- model.S[n,m], model.S[n,m])\n",
    "model.p = Var(model.L, model.K, bounds=p_bound)\n",
    "\n",
    "# q : reactive power on line (n, m) at step k\n",
    "def q_bound(model, n, m, k):\n",
    "   return (- model.S[n,m], model.S[n,m])\n",
    "model.q = Var(model.L, model.K, bounds=q_bound)"
   ]
  },
  {
   "cell_type": "code",
   "execution_count": 7,
   "metadata": {},
   "outputs": [],
   "source": [
    "## Define objective ##\n",
    "# maximize the active load\n",
    "def obj_rule(model):\n",
    "    return sum(sum(model.p_l[n] * model.l[n,k] for n in model.N) for k in model.K)\n",
    "model.obj = Objective(rule=obj_rule, sense=maximize)"
   ]
  },
  {
   "cell_type": "code",
   "execution_count": 8,
   "metadata": {},
   "outputs": [],
   "source": [
    "## Define constraint ##\n",
    "def m2_2_rule(model, k):\n",
    "    return sum(model.o[n,m,k] for (n,m) in model.R) == k\n",
    "model.m2_2 = Constraint(model.K, rule=m2_2_rule)\n",
    "\n",
    "def m2_3_rule(model, k, n, m):\n",
    "    if k == 1:\n",
    "        return Constraint.Skip\n",
    "    return model.o[n,m,k-1] <= model.o[n,m,k]\n",
    "model.m2_3 = Constraint(model.K, model.R, rule=m2_3_rule)\n",
    "\n",
    "def m2_4_rule(model, k, n, m):\n",
    "    return model.z[n,m,k] <= model.o[n,m,k]\n",
    "model.m2_4 = Constraint(model.K, model.R, rule=m2_4_rule)\n",
    "\n",
    "def m2_5_rule(model, k, n, m):\n",
    "    return model.z[n,m,k] == 1\n",
    "model.m2_5 = Constraint(model.K, model.L - model.R, rule=m2_5_rule)\n",
    "\n",
    "def m2_6_rule(model, k, n):\n",
    "    return model.p_g[n,k] - model.p_l[n] * model.l[n,k] <= sum(model.p[i,j,k] for (i,j) in model.L if i == n)\n",
    "model.m2_6 = Constraint(model.K, model.N, rule=m2_6_rule)\n",
    "\n",
    "def m2_7_rule(model, k, n):\n",
    "    return model.q_g[n,k] - model.q_l[n] * model.l[n,k] <= sum(model.q[i,j,k] for (i,j) in model.L if i == n)\n",
    "model.m2_7 = Constraint(model.K, model.N, rule=m2_7_rule)\n",
    "\n",
    "def m2_8_rule(model, k, n, m):\n",
    "    if model.z[n,m,k] == 0:\n",
    "        return Constraint.Skip\n",
    "    admit = model.v[n,k]**2 * model.g[n,m] \\\n",
    "        - model.v[n,k] * model.v[m,k] * model.g[n,m] * cos(model.theta[n,k] - model.theta[m,k]) \\\n",
    "        - model.v[n,k] * model.v[m,k] * model.b[n,m] * sin(model.theta[n,k] - model.theta[m,k])\n",
    "        \n",
    "    return model.p[n,m,k] == admit \n",
    "model.m2_8 = Constraint(model.K, model.L, rule=m2_8_rule)\n",
    "\n",
    "def m2_9_rule(model, k, n, m):\n",
    "    if model.z[n,m,k] == 0:\n",
    "        return Constraint.Skip\n",
    "    admit = - model.v[n,k]**2 * model.b[n,m] \\\n",
    "        + model.v[n,k] * model.v[m,k] * model.b[n,m] * cos(model.theta[n,k] - model.theta[m,k]) \\\n",
    "        - model.v[n,k] * model.v[m,k] * model.g[n,m] * sin(model.theta[n,k] - model.theta[m,k])\n",
    "        \n",
    "    return model.q[n,m] == admit \n",
    "model.m2_9 = Constraint(model.K, model.L, rule=m2_9_rule)\n",
    "\n",
    "def m2_10_rule(model, k, n, m):\n",
    "    if model.z[n,m,k] == 1:\n",
    "        return Constraint.Skip\n",
    "    return model.p[n,m,k] == 0 and model.q[n,m,k] == 0\n",
    "model.m2_10 = Constraint(model.K, model.L, rule=m2_10_rule)\n",
    "\n",
    "def m2_11_rule(model, k, n, m):\n",
    "    return model.p[n,m,k]**2 + model.q[n,m,k]**2 <= model.S[n,m]**2\n",
    "model.m2_11 = Constraint(model.K, model.L, rule=m2_11_rule)"
   ]
  },
  {
   "cell_type": "code",
   "execution_count": 9,
   "metadata": {},
   "outputs": [
    {
     "name": "stdout",
     "output_type": "stream",
     "text": [
      "23 Set Declarations\n",
      "    L : Lines\n",
      "        Dim=0, Dimen=2, Size=0, Domain=L_domain, Ordered=False, Bounds=None\n",
      "        Not constructed\n",
      "    L_domain : Dim=0, Dimen=2, Size=0, Domain=None, Ordered=False, Bounds=None\n",
      "        Virtual\n",
      "    N : Buses\n",
      "        Dim=0, Dimen=1, Size=0, Domain=None, Ordered=False, Bounds=None\n",
      "        Not constructed\n",
      "    R : Set of lines to repair\n",
      "        Dim=0, Dimen=2, Size=0, Domain=L, Ordered=False, Bounds=None\n",
      "        Not constructed\n",
      "    l_index : Dim=0, Dimen=2, Size=0, Domain=None, Ordered=False, Bounds=None\n",
      "        Virtual\n",
      "    m2_10_index : Dim=0, Dimen=3, Size=0, Domain=None, Ordered=False, Bounds=None\n",
      "        Virtual\n",
      "    m2_11_index : Dim=0, Dimen=3, Size=0, Domain=None, Ordered=False, Bounds=None\n",
      "        Virtual\n",
      "    m2_3_index : Dim=0, Dimen=3, Size=0, Domain=None, Ordered=False, Bounds=None\n",
      "        Virtual\n",
      "    m2_4_index : Dim=0, Dimen=3, Size=0, Domain=None, Ordered=False, Bounds=None\n",
      "        Virtual\n",
      "    m2_5_index : "
     ]
    },
    {
     "ename": "RuntimeError",
     "evalue": "Cannot iterate over abstract Set 'L' before it has been constructed (initialized).",
     "output_type": "error",
     "traceback": [
      "\u001b[1;31m---------------------------------------------------------------------------\u001b[0m",
      "\u001b[1;31mRuntimeError\u001b[0m                              Traceback (most recent call last)",
      "\u001b[1;32m<ipython-input-9-ea734d865051>\u001b[0m in \u001b[0;36m<module>\u001b[1;34m()\u001b[0m\n\u001b[1;32m----> 1\u001b[1;33m \u001b[0mmodel\u001b[0m\u001b[1;33m.\u001b[0m\u001b[0mpprint\u001b[0m\u001b[1;33m(\u001b[0m\u001b[1;33m)\u001b[0m\u001b[1;33m\u001b[0m\u001b[0m\n\u001b[0m",
      "\u001b[1;32mC:\\ProgramData\\Anaconda3\\lib\\site-packages\\pyomo\\core\\base\\block.py\u001b[0m in \u001b[0;36mpprint\u001b[1;34m(self, filename, ostream, verbose, prefix)\u001b[0m\n\u001b[0;32m   1882\u001b[0m         \u001b[0mPrint\u001b[0m \u001b[0mblock\u001b[0m \u001b[0minformation\u001b[0m\u001b[1;33m\u001b[0m\u001b[0m\n\u001b[0;32m   1883\u001b[0m         \"\"\"\n\u001b[1;32m-> 1884\u001b[1;33m         \u001b[0mBlock\u001b[0m\u001b[1;33m.\u001b[0m\u001b[0mpprint\u001b[0m\u001b[1;33m(\u001b[0m\u001b[0mself\u001b[0m\u001b[1;33m,\u001b[0m \u001b[0mfilename\u001b[0m\u001b[1;33m,\u001b[0m \u001b[0mostream\u001b[0m\u001b[1;33m,\u001b[0m \u001b[0mverbose\u001b[0m\u001b[1;33m,\u001b[0m \u001b[0mprefix\u001b[0m\u001b[1;33m)\u001b[0m\u001b[1;33m\u001b[0m\u001b[0m\n\u001b[0m\u001b[0;32m   1885\u001b[0m \u001b[1;33m\u001b[0m\u001b[0m\n\u001b[0;32m   1886\u001b[0m     \u001b[1;32mdef\u001b[0m \u001b[0mdisplay\u001b[0m\u001b[1;33m(\u001b[0m\u001b[0mself\u001b[0m\u001b[1;33m,\u001b[0m \u001b[0mfilename\u001b[0m\u001b[1;33m=\u001b[0m\u001b[1;32mNone\u001b[0m\u001b[1;33m,\u001b[0m \u001b[0mostream\u001b[0m\u001b[1;33m=\u001b[0m\u001b[1;32mNone\u001b[0m\u001b[1;33m,\u001b[0m \u001b[0mprefix\u001b[0m\u001b[1;33m=\u001b[0m\u001b[1;34m\"\"\u001b[0m\u001b[1;33m)\u001b[0m\u001b[1;33m:\u001b[0m\u001b[1;33m\u001b[0m\u001b[0m\n",
      "\u001b[1;32mC:\\ProgramData\\Anaconda3\\lib\\site-packages\\pyomo\\core\\base\\block.py\u001b[0m in \u001b[0;36mpprint\u001b[1;34m(self, filename, ostream, verbose, prefix)\u001b[0m\n\u001b[0;32m   1835\u001b[0m         \u001b[1;32mif\u001b[0m \u001b[1;32mnot\u001b[0m \u001b[0mself\u001b[0m\u001b[1;33m.\u001b[0m\u001b[0mis_indexed\u001b[0m\u001b[1;33m(\u001b[0m\u001b[1;33m)\u001b[0m\u001b[1;33m:\u001b[0m\u001b[1;33m\u001b[0m\u001b[0m\n\u001b[0;32m   1836\u001b[0m             _BlockData.pprint(self, ostream=ostream, verbose=verbose,\n\u001b[1;32m-> 1837\u001b[1;33m                               prefix=prefix+'    ' if subblock else prefix)\n\u001b[0m\u001b[0;32m   1838\u001b[0m             \u001b[1;32mreturn\u001b[0m\u001b[1;33m\u001b[0m\u001b[0m\n\u001b[0;32m   1839\u001b[0m \u001b[1;33m\u001b[0m\u001b[0m\n",
      "\u001b[1;32mC:\\ProgramData\\Anaconda3\\lib\\site-packages\\pyomo\\core\\base\\block.py\u001b[0m in \u001b[0;36mpprint\u001b[1;34m(self, filename, ostream, verbose, prefix)\u001b[0m\n\u001b[0;32m   1578\u001b[0m             \u001b[1;32mfor\u001b[0m \u001b[0mkey\u001b[0m \u001b[1;32min\u001b[0m \u001b[0mkeys\u001b[0m\u001b[1;33m:\u001b[0m\u001b[1;33m\u001b[0m\u001b[0m\n\u001b[0;32m   1579\u001b[0m                 self.component(key).pprint(\n\u001b[1;32m-> 1580\u001b[1;33m                     ostream=ostream, verbose=verbose, prefix=prefix + '    ')\n\u001b[0m\u001b[0;32m   1581\u001b[0m             \u001b[0mostream\u001b[0m\u001b[1;33m.\u001b[0m\u001b[0mwrite\u001b[0m\u001b[1;33m(\u001b[0m\u001b[1;34m\"\\n\"\u001b[0m\u001b[1;33m)\u001b[0m\u001b[1;33m\u001b[0m\u001b[0m\n\u001b[0;32m   1582\u001b[0m         \u001b[1;31m#\u001b[0m\u001b[1;33m\u001b[0m\u001b[1;33m\u001b[0m\u001b[0m\n",
      "\u001b[1;32mC:\\ProgramData\\Anaconda3\\lib\\site-packages\\pyomo\\core\\base\\component.py\u001b[0m in \u001b[0;36mpprint\u001b[1;34m(self, ostream, verbose, prefix)\u001b[0m\n\u001b[0;32m    484\u001b[0m             \u001b[0mostream\u001b[0m\u001b[1;33m.\u001b[0m\u001b[0mwrite\u001b[0m\u001b[1;33m(\u001b[0m\u001b[0mself\u001b[0m\u001b[1;33m.\u001b[0m\u001b[0mdoc\u001b[0m\u001b[1;33m+\u001b[0m\u001b[1;34m'\\n'\u001b[0m\u001b[1;33m+\u001b[0m\u001b[0mprefix\u001b[0m\u001b[1;33m+\u001b[0m\u001b[0mtab\u001b[0m\u001b[1;33m)\u001b[0m\u001b[1;33m\u001b[0m\u001b[0m\n\u001b[0;32m    485\u001b[0m \u001b[1;33m\u001b[0m\u001b[0m\n\u001b[1;32m--> 486\u001b[1;33m         \u001b[0m_attr\u001b[0m\u001b[1;33m,\u001b[0m \u001b[0m_data\u001b[0m\u001b[1;33m,\u001b[0m \u001b[0m_header\u001b[0m\u001b[1;33m,\u001b[0m \u001b[0m_fcn\u001b[0m \u001b[1;33m=\u001b[0m \u001b[0mself\u001b[0m\u001b[1;33m.\u001b[0m\u001b[0m_pprint\u001b[0m\u001b[1;33m(\u001b[0m\u001b[1;33m)\u001b[0m\u001b[1;33m\u001b[0m\u001b[0m\n\u001b[0m\u001b[0;32m    487\u001b[0m \u001b[1;33m\u001b[0m\u001b[0m\n\u001b[0;32m    488\u001b[0m         \u001b[0mostream\u001b[0m\u001b[1;33m.\u001b[0m\u001b[0mwrite\u001b[0m\u001b[1;33m(\u001b[0m\u001b[1;34m\", \"\u001b[0m\u001b[1;33m.\u001b[0m\u001b[0mjoin\u001b[0m\u001b[1;33m(\u001b[0m\u001b[1;34m\"%s=%s\"\u001b[0m \u001b[1;33m%\u001b[0m \u001b[1;33m(\u001b[0m\u001b[0mk\u001b[0m\u001b[1;33m,\u001b[0m\u001b[0mv\u001b[0m\u001b[1;33m)\u001b[0m \u001b[1;32mfor\u001b[0m \u001b[0mk\u001b[0m\u001b[1;33m,\u001b[0m\u001b[0mv\u001b[0m \u001b[1;32min\u001b[0m \u001b[0m_attr\u001b[0m\u001b[1;33m)\u001b[0m\u001b[1;33m)\u001b[0m\u001b[1;33m\u001b[0m\u001b[0m\n",
      "\u001b[1;32mC:\\ProgramData\\Anaconda3\\lib\\site-packages\\pyomo\\core\\base\\sets.py\u001b[0m in \u001b[0;36m_pprint\u001b[1;34m(self)\u001b[0m\n\u001b[0;32m    828\u001b[0m             [(\"Dim\", self.dim()),\n\u001b[0;32m    829\u001b[0m              \u001b[1;33m(\u001b[0m\u001b[1;34m\"Dimen\"\u001b[0m\u001b[1;33m,\u001b[0m \u001b[0mself\u001b[0m\u001b[1;33m.\u001b[0m\u001b[0mdimen\u001b[0m\u001b[1;33m)\u001b[0m\u001b[1;33m,\u001b[0m\u001b[1;33m\u001b[0m\u001b[0m\n\u001b[1;32m--> 830\u001b[1;33m              \u001b[1;33m(\u001b[0m\u001b[1;34m\"Size\"\u001b[0m\u001b[1;33m,\u001b[0m \u001b[0mlen\u001b[0m\u001b[1;33m(\u001b[0m\u001b[0mself\u001b[0m\u001b[1;33m)\u001b[0m\u001b[1;33m)\u001b[0m\u001b[1;33m,\u001b[0m\u001b[1;33m\u001b[0m\u001b[0m\n\u001b[0m\u001b[0;32m    831\u001b[0m              \u001b[1;33m(\u001b[0m\u001b[1;34m\"Domain\"\u001b[0m\u001b[1;33m,\u001b[0m \u001b[1;32mNone\u001b[0m \u001b[1;32mif\u001b[0m \u001b[0mself\u001b[0m\u001b[1;33m.\u001b[0m\u001b[0mdomain\u001b[0m \u001b[1;32mis\u001b[0m \u001b[1;32mNone\u001b[0m \u001b[1;32melse\u001b[0m \u001b[0mself\u001b[0m\u001b[1;33m.\u001b[0m\u001b[0mdomain\u001b[0m\u001b[1;33m.\u001b[0m\u001b[0mname\u001b[0m\u001b[1;33m)\u001b[0m\u001b[1;33m,\u001b[0m\u001b[1;33m\u001b[0m\u001b[0m\n\u001b[0;32m    832\u001b[0m              \u001b[1;33m(\u001b[0m\u001b[1;34m\"Ordered\"\u001b[0m\u001b[1;33m,\u001b[0m \u001b[0m_ordered\u001b[0m\u001b[1;33m)\u001b[0m\u001b[1;33m,\u001b[0m\u001b[1;33m\u001b[0m\u001b[0m\n",
      "\u001b[1;32mC:\\ProgramData\\Anaconda3\\lib\\site-packages\\pyomo\\core\\base\\sets.py\u001b[0m in \u001b[0;36m__len__\u001b[1;34m(self)\u001b[0m\n\u001b[0;32m   1554\u001b[0m         \u001b[0mans\u001b[0m \u001b[1;33m=\u001b[0m \u001b[1;36m1\u001b[0m\u001b[1;33m\u001b[0m\u001b[0m\n\u001b[0;32m   1555\u001b[0m         \u001b[1;32mfor\u001b[0m \u001b[0m_set\u001b[0m \u001b[1;32min\u001b[0m \u001b[0mself\u001b[0m\u001b[1;33m.\u001b[0m\u001b[0mset_tuple\u001b[0m\u001b[1;33m:\u001b[0m\u001b[1;33m\u001b[0m\u001b[0m\n\u001b[1;32m-> 1556\u001b[1;33m             \u001b[0mans\u001b[0m \u001b[1;33m*=\u001b[0m \u001b[0mlen\u001b[0m\u001b[1;33m(\u001b[0m\u001b[0m_set\u001b[0m\u001b[1;33m)\u001b[0m\u001b[1;33m\u001b[0m\u001b[0m\n\u001b[0m\u001b[0;32m   1557\u001b[0m         \u001b[1;32mreturn\u001b[0m \u001b[0mans\u001b[0m\u001b[1;33m\u001b[0m\u001b[0m\n\u001b[0;32m   1558\u001b[0m \u001b[1;33m\u001b[0m\u001b[0m\n",
      "\u001b[1;32mC:\\ProgramData\\Anaconda3\\lib\\site-packages\\pyomo\\core\\base\\sets.py\u001b[0m in \u001b[0;36m__len__\u001b[1;34m(self)\u001b[0m\n\u001b[0;32m   1409\u001b[0m         \u001b[1;34m\"\"\"The number of items in the set.\"\"\"\u001b[0m\u001b[1;33m\u001b[0m\u001b[0m\n\u001b[0;32m   1410\u001b[0m         \u001b[0mctr\u001b[0m \u001b[1;33m=\u001b[0m \u001b[1;36m0\u001b[0m\u001b[1;33m\u001b[0m\u001b[0m\n\u001b[1;32m-> 1411\u001b[1;33m         \u001b[1;32mfor\u001b[0m \u001b[0mi\u001b[0m \u001b[1;32min\u001b[0m \u001b[0mself\u001b[0m\u001b[1;33m:\u001b[0m\u001b[1;33m\u001b[0m\u001b[0m\n\u001b[0m\u001b[0;32m   1412\u001b[0m             \u001b[0mctr\u001b[0m \u001b[1;33m+=\u001b[0m \u001b[1;36m1\u001b[0m\u001b[1;33m\u001b[0m\u001b[0m\n\u001b[0;32m   1413\u001b[0m         \u001b[1;32mreturn\u001b[0m \u001b[0mctr\u001b[0m\u001b[1;33m\u001b[0m\u001b[0m\n",
      "\u001b[1;32mC:\\ProgramData\\Anaconda3\\lib\\site-packages\\pyomo\\core\\base\\sets.py\u001b[0m in \u001b[0;36m__iter__\u001b[1;34m(self)\u001b[0m\n\u001b[0;32m   1458\u001b[0m \u001b[1;33m\u001b[0m\u001b[0m\n\u001b[0;32m   1459\u001b[0m     \u001b[1;32mdef\u001b[0m \u001b[0m__iter__\u001b[0m\u001b[1;33m(\u001b[0m\u001b[0mself\u001b[0m\u001b[1;33m)\u001b[0m\u001b[1;33m:\u001b[0m\u001b[1;33m\u001b[0m\u001b[0m\n\u001b[1;32m-> 1460\u001b[1;33m         \u001b[1;32mfor\u001b[0m \u001b[0melt\u001b[0m \u001b[1;32min\u001b[0m \u001b[0mself\u001b[0m\u001b[1;33m.\u001b[0m\u001b[0m_setA\u001b[0m\u001b[1;33m:\u001b[0m\u001b[1;33m\u001b[0m\u001b[0m\n\u001b[0m\u001b[0;32m   1461\u001b[0m             \u001b[1;32mif\u001b[0m \u001b[1;32mnot\u001b[0m \u001b[0melt\u001b[0m \u001b[1;32min\u001b[0m \u001b[0mself\u001b[0m\u001b[1;33m.\u001b[0m\u001b[0m_setB\u001b[0m\u001b[1;33m:\u001b[0m\u001b[1;33m\u001b[0m\u001b[0m\n\u001b[0;32m   1462\u001b[0m                 \u001b[1;32myield\u001b[0m \u001b[0melt\u001b[0m\u001b[1;33m\u001b[0m\u001b[0m\n",
      "\u001b[1;32mC:\\ProgramData\\Anaconda3\\lib\\site-packages\\pyomo\\core\\base\\sets.py\u001b[0m in \u001b[0;36m__iter__\u001b[1;34m(self)\u001b[0m\n\u001b[0;32m    864\u001b[0m             raise RuntimeError(\n\u001b[0;32m    865\u001b[0m                 \u001b[1;34m\"Cannot iterate over abstract Set '%s' before it has \"\u001b[0m\u001b[1;33m\u001b[0m\u001b[0m\n\u001b[1;32m--> 866\u001b[1;33m                 \"been constructed (initialized).\" % (self.name,) )\n\u001b[0m\u001b[0;32m    867\u001b[0m         \u001b[1;32mif\u001b[0m \u001b[1;32mnot\u001b[0m \u001b[0mself\u001b[0m\u001b[1;33m.\u001b[0m\u001b[0mconcrete\u001b[0m\u001b[1;33m:\u001b[0m\u001b[1;33m\u001b[0m\u001b[0m\n\u001b[0;32m    868\u001b[0m             \u001b[1;32mraise\u001b[0m \u001b[0mTypeError\u001b[0m\u001b[1;33m(\u001b[0m\u001b[1;34m\"Cannot iterate over a non-concrete set '%s'\"\u001b[0m \u001b[1;33m%\u001b[0m \u001b[0mself\u001b[0m\u001b[1;33m.\u001b[0m\u001b[0mname\u001b[0m\u001b[1;33m)\u001b[0m\u001b[1;33m\u001b[0m\u001b[0m\n",
      "\u001b[1;31mRuntimeError\u001b[0m: Cannot iterate over abstract Set 'L' before it has been constructed (initialized)."
     ]
    }
   ],
   "source": [
    "model.pprint()"
   ]
  }
 ],
 "metadata": {
  "kernelspec": {
   "display_name": "Python 3",
   "language": "python",
   "name": "python3"
  },
  "language_info": {
   "codemirror_mode": {
    "name": "ipython",
    "version": 3
   },
   "file_extension": ".py",
   "mimetype": "text/x-python",
   "name": "python",
   "nbconvert_exporter": "python",
   "pygments_lexer": "ipython3",
   "version": "3.6.4"
  }
 },
 "nbformat": 4,
 "nbformat_minor": 2
}
