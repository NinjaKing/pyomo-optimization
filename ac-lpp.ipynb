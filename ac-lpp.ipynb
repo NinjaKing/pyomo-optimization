{
 "cells": [
  {
   "cell_type": "code",
   "execution_count": 1,
   "metadata": {
    "collapsed": true
   },
   "outputs": [],
   "source": [
    "from pyomo.environ import *"
   ]
  },
  {
   "cell_type": "code",
   "execution_count": 2,
   "metadata": {
    "collapsed": true
   },
   "outputs": [],
   "source": [
    "model = AbstractModel()"
   ]
  },
  {
   "cell_type": "code",
   "execution_count": 3,
   "metadata": {
    "collapsed": true
   },
   "outputs": [],
   "source": [
    "## Define sets ##\n",
    "# N : buses\n",
    "model.N = Set(doc='Buses')\n",
    "# L : lines\n",
    "model.L = Set(within=model.N*model.N, doc='Lines')"
   ]
  },
  {
   "cell_type": "code",
   "execution_count": 4,
   "metadata": {
    "collapsed": true
   },
   "outputs": [],
   "source": [
    "## Define parameters ##\n",
    "# p_l : desired active loads\n",
    "model.p_l = Param(model.N)\n",
    "# q_l : desired reactive loads\n",
    "model.q_l = Param(model.N)\n",
    "\n",
    "# g, b : admittance between bus n and bus m\n",
    "model.g = Param(model.L) # conductance\n",
    "model.b = Param(model.L) # susceptance\n",
    "\n",
    "# S : line loading limit on line (n, m)\n",
    "model.S = Param(model.L)\n",
    "\n",
    "# interval of active generation\n",
    "model.p_g_lb = Param(model.N) # lower bound\n",
    "model.p_g_ub = Param(model.N) # upper bound\n",
    "\n",
    "# interval of reactive generation\n",
    "model.q_g_lb = Param(model.N) # lower bound\n",
    "model.q_g_ub = Param(model.N) # upper bound\n",
    "\n",
    "# interval of voltage magnitude\n",
    "model.v_lb = Param(model.N) # lower bound\n",
    "model.v_ub = Param(model.N) # upper bound"
   ]
  },
  {
   "cell_type": "code",
   "execution_count": 5,
   "metadata": {
    "collapsed": true
   },
   "outputs": [],
   "source": [
    "## Define variables ##\n",
    "# theta : phase angle of bus n (radians)\n",
    "model.theta = Var(model.N)\n",
    "\n",
    "# v : voltage magnitude\n",
    "def v_bound(model, n):\n",
    "   return (model.v_lb[n], model.v_ub[n])\n",
    "model.v = Var(model.N, bounds=v_bound)\n",
    "\n",
    "# p_g : active generation\n",
    "def p_g_bound(model, n):\n",
    "   return (model.p_g_lb[n], model.p_g_ub[n])\n",
    "model.p_g = Var(model.N, bounds=p_g_bound)\n",
    "\n",
    "# q_g : reactive generation\n",
    "def q_g_bound(model, n):\n",
    "   return (model.q_g_lb[n], model.q_g_ub[n])\n",
    "model.q_g = Var(model.N, bounds=q_g_bound)\n",
    "\n",
    "# l : percentage load served \n",
    "model.l = Var(model.N, bounds=(0, 1))\n",
    "\n",
    "# p : active power on line (n, m)\n",
    "def p_bound(model, n, m):\n",
    "   return (- model.S[n,m], model.S[n,m])\n",
    "model.p = Var(model.L, bounds=p_bound)\n",
    "\n",
    "# q : reactive power on line (n, m)\n",
    "def q_bound(model, n, m):\n",
    "   return (- model.S[n,m], model.S[n,m])\n",
    "model.q = Var(model.L, bounds=q_bound)"
   ]
  },
  {
   "cell_type": "code",
   "execution_count": 6,
   "metadata": {
    "collapsed": true
   },
   "outputs": [],
   "source": [
    "## Define objective ##\n",
    "# maximize the active load\n",
    "def obj_rule(model):\n",
    "    return sum(model.p_l[n] * model.l[n] for n in model.N)\n",
    "model.obj = Objective(rule=obj_rule, sense=maximize)"
   ]
  },
  {
   "cell_type": "code",
   "execution_count": 7,
   "metadata": {
    "collapsed": true
   },
   "outputs": [],
   "source": [
    "## Define constraint ##\n",
    "# flow conservation\n",
    "def flow_p_rule(model, n):\n",
    "    return model.p_g[n] - model.p_l[n] * model.l[n] <= sum(model.p[i,j] for (i,j) in model.L if i == n)\n",
    "model.flow_p = Constraint(model.N, rule=flow_p_rule)\n",
    "\n",
    "def flow_q_rule(model, n):\n",
    "    return model.q_g[n] - model.q_l[n] * model.l[n] <= sum(model.q[i,j] for (i,j) in model.L if i == n)\n",
    "model.flow_q = Constraint(model.N, rule=flow_q_rule)"
   ]
  },
  {
   "cell_type": "code",
   "execution_count": 8,
   "metadata": {
    "collapsed": true
   },
   "outputs": [],
   "source": [
    "# the real and reactive power flows on lines\n",
    "def active_power_flow_rule(model, n, m):\n",
    "    admit = model.v[n]**2 * model.g[n,m] \\\n",
    "        - model.v[n] * model.v[m] * model.g[n,m] * cos(model.theta[n] - model.theta[m]) \\\n",
    "        - model.v[n] * model.v[m] * model.b[n,m] * sin(model.theta[n] - model.theta[m])\n",
    "        \n",
    "    return model.p[n,m] == admit\n",
    "model.active_power_flow = Constraint(model.L, rule=active_power_flow_rule)\n",
    "\n",
    "def reactive_power_flow_rule(model, n, m):\n",
    "    admit = - model.v[n]**2 * model.b[n,m] \\\n",
    "        + model.v[n] * model.v[m] * model.b[n,m] * cos(model.theta[n] - model.theta[m]) \\\n",
    "        - model.v[n] * model.v[m] * model.g[n,m] * sin(model.theta[n] - model.theta[m])\n",
    "        \n",
    "    return model.q[n,m] == admit\n",
    "model.reactive_power_flow = Constraint(model.L, rule=reactive_power_flow_rule)"
   ]
  },
  {
   "cell_type": "code",
   "execution_count": 9,
   "metadata": {
    "collapsed": true
   },
   "outputs": [],
   "source": [
    "# the thermal limits for lines\n",
    "def thermal_limit_rule(model, n, m):\n",
    "    return model.p[n,m]**2 + model.q[n,m]**2 <= model.S[n,m]**2\n",
    "model.thermal_limit = Constraint(model.L, rule=thermal_limit_rule)"
   ]
  },
  {
   "cell_type": "code",
   "execution_count": 10,
   "metadata": {},
   "outputs": [
    {
     "name": "stdout",
     "output_type": "stream",
     "text": [
      "3 Set Declarations\n",
      "    L : Lines\n",
      "        Dim=0, Dimen=2, Size=0, Domain=L_domain, Ordered=False, Bounds=None\n",
      "        Not constructed\n",
      "    L_domain : Dim=0, Dimen=2, Size=0, Domain=None, Ordered=False, Bounds=None\n",
      "        Virtual\n",
      "    N : Buses\n",
      "        Dim=0, Dimen=1, Size=0, Domain=None, Ordered=False, Bounds=None\n",
      "        Not constructed\n",
      "\n",
      "11 Param Declarations\n",
      "    S : Size=0, Index=L, Domain=Any, Default=None, Mutable=False\n",
      "        Not constructed\n",
      "    b : Size=0, Index=L, Domain=Any, Default=None, Mutable=False\n",
      "        Not constructed\n",
      "    g : Size=0, Index=L, Domain=Any, Default=None, Mutable=False\n",
      "        Not constructed\n",
      "    p_g_lb : Size=0, Index=N, Domain=Any, Default=None, Mutable=False\n",
      "        Not constructed\n",
      "    p_g_ub : Size=0, Index=N, Domain=Any, Default=None, Mutable=False\n",
      "        Not constructed\n",
      "    p_l : Size=0, Index=N, Domain=Any, Default=None, Mutable=False\n",
      "        Not constructed\n",
      "    q_g_lb : Size=0, Index=N, Domain=Any, Default=None, Mutable=False\n",
      "        Not constructed\n",
      "    q_g_ub : Size=0, Index=N, Domain=Any, Default=None, Mutable=False\n",
      "        Not constructed\n",
      "    q_l : Size=0, Index=N, Domain=Any, Default=None, Mutable=False\n",
      "        Not constructed\n",
      "    v_lb : Size=0, Index=N, Domain=Any, Default=None, Mutable=False\n",
      "        Not constructed\n",
      "    v_ub : Size=0, Index=N, Domain=Any, Default=None, Mutable=False\n",
      "        Not constructed\n",
      "\n",
      "7 Var Declarations\n",
      "    l : Size=0, Index=N\n",
      "        Not constructed\n",
      "    p : Size=0, Index=L\n",
      "        Not constructed\n",
      "    p_g : Size=0, Index=N\n",
      "        Not constructed\n",
      "    q : Size=0, Index=L\n",
      "        Not constructed\n",
      "    q_g : Size=0, Index=N\n",
      "        Not constructed\n",
      "    theta : Size=0, Index=N\n",
      "        Not constructed\n",
      "    v : Size=0, Index=N\n",
      "        Not constructed\n",
      "\n",
      "1 Objective Declarations\n",
      "    obj : Size=0, Index=None, Active=True\n",
      "        Not constructed\n",
      "\n",
      "5 Constraint Declarations\n",
      "    active_power_flow : Size=0, Index=L, Active=True\n",
      "        Not constructed\n",
      "    flow_p : Size=0, Index=N, Active=True\n",
      "        Not constructed\n",
      "    flow_q : Size=0, Index=N, Active=True\n",
      "        Not constructed\n",
      "    reactive_power_flow : Size=0, Index=L, Active=True\n",
      "        Not constructed\n",
      "    thermal_limit : Size=0, Index=L, Active=True\n",
      "        Not constructed\n",
      "\n",
      "27 Declarations: N L_domain L p_l q_l g b S p_g_lb p_g_ub q_g_lb q_g_ub v_lb v_ub theta v p_g q_g l p q obj flow_p flow_q active_power_flow reactive_power_flow thermal_limit\n"
     ]
    }
   ],
   "source": [
    "model.pprint()"
   ]
  }
 ],
 "metadata": {
  "kernelspec": {
   "display_name": "Python 3",
   "language": "python",
   "name": "python3"
  },
  "language_info": {
   "codemirror_mode": {
    "name": "ipython",
    "version": 3
   },
   "file_extension": ".py",
   "mimetype": "text/x-python",
   "name": "python",
   "nbconvert_exporter": "python",
   "pygments_lexer": "ipython3",
   "version": "3.6.4"
  }
 },
 "nbformat": 4,
 "nbformat_minor": 2
}
