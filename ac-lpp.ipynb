{
 "cells": [
  {
   "cell_type": "code",
   "execution_count": 1,
   "metadata": {
    "collapsed": true
   },
   "outputs": [],
   "source": [
    "from pyomo.environ import *\n",
    "import numpy as np"
   ]
  },
  {
   "cell_type": "code",
   "execution_count": 2,
   "metadata": {
    "collapsed": true
   },
   "outputs": [],
   "source": [
    "model = AbstractModel()"
   ]
  },
  {
   "cell_type": "code",
   "execution_count": 3,
   "metadata": {
    "collapsed": true
   },
   "outputs": [],
   "source": [
    "## Define sets ##\n",
    "# N : buses\n",
    "model.N = Set(doc='Buses')\n",
    "# L : lines\n",
    "model.L = Set(within=model.N*model.N, doc='Lines')"
   ]
  },
  {
   "cell_type": "code",
   "execution_count": 4,
   "metadata": {
    "collapsed": false
   },
   "outputs": [],
   "source": [
    "## Define parameters ##\n",
    "# p_l : desired active loads\n",
    "model.p_l = Param(model.N)\n",
    "# q_l : desired reactive loads\n",
    "model.q_l = Param(model.N)\n",
    "\n",
    "# g, b : admittance between bus n and bus m\n",
    "model.g = Param(model.L) # conductance\n",
    "model.b = Param(model.L) # susceptance\n",
    "\n",
    "# S : line loading limit on line (n, m)\n",
    "model.S = Param(model.L)\n",
    "\n",
    "# interval of active generation\n",
    "model.p_g_lb = Param(model.N) # lower bound\n",
    "model.p_g_ub = Param(model.N) # upper bound\n",
    "\n",
    "# interval of reactive generation\n",
    "model.q_g_lb = Param(model.N) # lower bound\n",
    "model.q_g_ub = Param(model.N) # upper bound\n",
    "\n",
    "# interval of voltage magnitude\n",
    "model.v_lb = Param(model.N) # lower bound\n",
    "model.v_ub = Param(model.N) # upper bound"
   ]
  },
  {
   "cell_type": "code",
   "execution_count": 5,
   "metadata": {
    "collapsed": true
   },
   "outputs": [],
   "source": [
    "## Define variables ##\n",
    "# theta : phase angle of bus n (radians)\n",
    "model.theta = Var(model.N)\n",
    "\n",
    "# v : voltage magnitude\n",
    "model.v = Var(model.N)\n",
    "\n",
    "# p_g : active generation\n",
    "model.p_g = Var(model.N)\n",
    "\n",
    "# q_g : reactive generation\n",
    "model.q_g = Var(model.N)\n",
    "\n",
    "# l : percentage load served \n",
    "model.l = Var(model.N, bounds=(0, 1))\n",
    "\n",
    "# p : active power on line (n, m)\n",
    "model.p = Var(model.L)\n",
    "\n",
    "# q : reactive power on line (n, m)\n",
    "model.q = Var(model.L)"
   ]
  },
  {
   "cell_type": "code",
   "execution_count": 6,
   "metadata": {
    "collapsed": true
   },
   "outputs": [],
   "source": [
    "## Define objective ##\n",
    "# maximize the active load\n",
    "def obj_rule(model):\n",
    "    return sum(model.p_l[n] * model.l[n] for n in model.N)\n",
    "model.obj = Objective(rule=obj_rule, sense=maximize)"
   ]
  },
  {
   "cell_type": "code",
   "execution_count": 7,
   "metadata": {
    "collapsed": true
   },
   "outputs": [],
   "source": [
    "## Define constraint ##\n",
    "# active generation limit\n",
    "def p_g_bound_rule(model, n):\n",
    "    return model.p_g_lb[n] <= model.p_g[n] <= model.p_g_ub[n]\n",
    "model.p_g_limit = Constraint(model.N, rule=p_g_bound_rule)\n",
    "\n",
    "# reactive generation limit\n",
    "def q_g_bound_rule(model, n):\n",
    "    return model.q_g_lb[n] <= model.q_g[n] <= model.q_g_ub[n]\n",
    "model.q_g_limit = Constraint(model.N, rule=q_g_bound_rule)\n",
    "\n",
    "# voltage magnitude limit\n",
    "def v_bound_rule(model, n):\n",
    "    return model.v_lb[n] <= model.v[n] <= model.v_ub[n]\n",
    "model.v_limit = Constraint(model.N, rule=v_bound_rule)\n",
    "\n",
    "# active power bound\n",
    "def p_bound_rule(model, n, m):\n",
    "    return - model.S[n,m] <= model.p[n,m] <= model.S[n,m]\n",
    "model.p_limit = Constraint(model.L, rule=p_bound_rule)\n",
    "\n",
    "# reactive power bound\n",
    "def q_bound_rule(model, n, m):\n",
    "    return - model.S[n,m] <= model.q[n,m] <= model.S[n,m]\n",
    "model.q_limit = Constraint(model.L, rule=q_bound_rule)"
   ]
  },
  {
   "cell_type": "code",
   "execution_count": 8,
   "metadata": {
    "collapsed": true
   },
   "outputs": [],
   "source": [
    "# flow conservation\n",
    "def flow_p_rule(model, n):\n",
    "    return model.p_g[n] - model.p_l[n] * model.l[n] <= sum(model.p[i,j] for (i,j) in model.L)\n",
    "model.flow_p = Constraint(model.N, rule=flow_p_rule)\n",
    "\n",
    "def flow_q_rule(model, n):\n",
    "    return model.q_g[n] - model.q_l[n] * model.l[n] <= sum(model.q[i,j] for (i,j) in model.L)\n",
    "model.flow_q = Constraint(model.N, rule=flow_q_rule)"
   ]
  },
  {
   "cell_type": "code",
   "execution_count": 9,
   "metadata": {
    "collapsed": true
   },
   "outputs": [],
   "source": [
    "# the real and reactive power flows on lines\n",
    "def active_power_flow_rule(model, n, m):\n",
    "    admit = model.v[n]**2 * model.g[n,m] \\\n",
    "        - model.v[n] * model.v[m] * model.g[n,m] * cos(model.theta[n] - model.theta[m]) \\\n",
    "        - model.v[n] * model.v[m] * model.b[n,m] * sin(model.theta[n] - model.theta[m])\n",
    "        \n",
    "    return model.p[n,m] == admit\n",
    "model.active_power_flow = Constraint(model.L, rule=active_power_flow_rule)\n",
    "\n",
    "def reactive_power_flow_rule(model, n, m):\n",
    "    admit = - model.v[n]**2 * model.b[n,m] \\\n",
    "        + model.v[n] * model.v[m] * model.b[n,m] * cos(model.theta[n] - model.theta[m]) \\\n",
    "        - model.v[n] * model.v[m] * model.g[n,m] * sin(model.theta[n] - model.theta[m])\n",
    "        \n",
    "    return model.q[n,m] == admit\n",
    "model.reactive_power_flow = Constraint(model.L, rule=reactive_power_flow_rule)"
   ]
  },
  {
   "cell_type": "code",
   "execution_count": 10,
   "metadata": {
    "collapsed": true
   },
   "outputs": [],
   "source": [
    "# the thermal limits for lines\n",
    "def thermal_limit_rule(model, n, m):\n",
    "    return model.p[n,m]**2 + model.q[n,m]**2 <= model.S[n,m]**2\n",
    "model.thermal_limit = Constraint(model.L, rule=thermal_limit_rule)"
   ]
  }
 ],
 "metadata": {
  "kernelspec": {
   "display_name": "Python 3",
   "language": "python",
   "name": "python3"
  },
  "language_info": {
   "codemirror_mode": {
    "name": "ipython",
    "version": 3
   },
   "file_extension": ".py",
   "mimetype": "text/x-python",
   "name": "python",
   "nbconvert_exporter": "python",
   "pygments_lexer": "ipython3",
   "version": "3.6.0"
  }
 },
 "nbformat": 4,
 "nbformat_minor": 2
}
